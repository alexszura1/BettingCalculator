{
 "cells": [
  {
   "cell_type": "code",
   "execution_count": 3,
   "id": "63008a85",
   "metadata": {},
   "outputs": [],
   "source": [
    "# Cell 1: Collecting user input\n",
    "bet_amount = float(input(\"Enter your bet amount: \"))"
   ]
  },
  {
   "cell_type": "markdown",
   "id": "d4348cff",
   "metadata": {},
   "source": [
    "# Section 1"
   ]
  },
  {
   "cell_type": "code",
   "execution_count": 2,
   "id": "50e37ce2",
   "metadata": {},
   "outputs": [],
   "source": [
    "# Cell 2: Payout Calculation Functions for Over and Under Odds (Profit Calculation)\n",
    "def calculate_over_payout(over_odds, bet_amount):\n",
    "    if over_odds > 0:  # Positive odds\n",
    "        total_payout = bet_amount * (over_odds / 100 + 1)\n",
    "    else:  # Negative odds\n",
    "        total_payout = bet_amount * (100 / abs(over_odds)) + bet_amount\n",
    "    return total_payout - bet_amount  # Profit: total payout - initial bet\n",
    "\n",
    "def calculate_under_payout(under_odds, bet_amount):\n",
    "    if under_odds > 0:  # Positive odds\n",
    "        total_payout = bet_amount * (under_odds / 100 + 1)\n",
    "    else:  # Negative odds\n",
    "        total_payout = bet_amount * (100 / abs(under_odds)) + bet_amount\n",
    "    return total_payout - bet_amount  # Profit: total payout - initial bet\n"
   ]
  },
  {
   "cell_type": "code",
   "execution_count": 3,
   "id": "977b8378",
   "metadata": {},
   "outputs": [
    {
     "data": {
      "text/plain": [
       "90.9090909090909"
      ]
     },
     "execution_count": 3,
     "metadata": {},
     "output_type": "execute_result"
    }
   ],
   "source": [
    "calculate_over_payout(-110,100)"
   ]
  },
  {
   "cell_type": "code",
   "execution_count": 4,
   "id": "ee83c342",
   "metadata": {},
   "outputs": [
    {
     "name": "stdout",
     "output_type": "stream",
     "text": [
      "-0.45454545454545503\n",
      "-0.45454545454545503\n",
      "\n",
      "Expected Over Payout: $-0.91\n",
      "Expected Under Payout: $-0.91\n",
      "\n",
      "Expected ROI for Over Bet: -4.55%\n",
      "Expected ROI for Under Bet: -4.55%\n",
      "The over bet is expected to be unprofitable.\n",
      "The under bet is expected to be unprofitable.\n",
      "\n",
      "Expected Total Profit: $-0.91\n",
      "The bet is expected to be unprofitable overall.\n"
     ]
    }
   ],
   "source": [
    "# Cell 3: Calculate Expected Over and Under Payouts Separately with ROI for Both Bets\n",
    "over_odds = -110  # Fixed over odds\n",
    "under_odds = -110  # Fixed under odds\n",
    "\n",
    "chance = 0.5  # 50% chance for both over and under outcomes\n",
    "\n",
    "# Calculate payouts for both over and under using respective functions\n",
    "over_payout = calculate_over_payout(over_odds, bet_amount)  # Over payout calculation\n",
    "under_payout = calculate_under_payout(under_odds, bet_amount)  # Under payout calculation\n",
    "\n",
    "# Calculate expected payouts for over and under\n",
    "expected_over_payout = (over_payout - bet_amount)\n",
    "expected_under_payout = (under_payout - bet_amount)\n",
    "\n",
    "# Calculate expected profit for each bet\n",
    "expected_over_profit = expected_over_payout * chance\n",
    "print(expected_over_profit)\n",
    "expected_under_profit = expected_under_payout * chance\n",
    "print(expected_under_profit)\n",
    "\n",
    "# Calculate ROI for both over and under bets\n",
    "over_roi = (expected_over_profit / bet_amount) * 100\n",
    "under_roi = (expected_under_profit / bet_amount) * 100\n",
    "\n",
    "# Display expected payouts\n",
    "print(\"\\nExpected Over Payout: ${:.2f}\".format(expected_over_payout))\n",
    "print(\"Expected Under Payout: ${:.2f}\".format(expected_under_payout))\n",
    "\n",
    "# Display ROI for both over and under bets\n",
    "print(f\"\\nExpected ROI for Over Bet: {over_roi:.2f}%\")\n",
    "print(f\"Expected ROI for Under Bet: {under_roi:.2f}%\")\n",
    "\n",
    "# Return if each bet is expected to be profitable or not\n",
    "if expected_over_profit > 0:\n",
    "    print(\"The over bet is expected to be profitable.\")\n",
    "else:\n",
    "    print(\"The over bet is expected to be unprofitable.\")\n",
    "\n",
    "if expected_under_profit > 0:\n",
    "    print(\"The under bet is expected to be profitable.\")\n",
    "else:\n",
    "    print(\"The under bet is expected to be unprofitable.\")\n",
    "\n",
    "# Calculate overall expected profit from both over and under bets\n",
    "expected_profit = expected_over_profit + expected_under_profit\n",
    "\n",
    "# Display the overall expected profit and return if the total bet is profitable\n",
    "print(f\"\\nExpected Total Profit: ${expected_profit:.2f}\")\n",
    "if expected_profit > 0:\n",
    "    print(\"The bet is expected to be profitable overall.\")\n",
    "else:\n",
    "    print(\"The bet is expected to be unprofitable overall.\")\n"
   ]
  },
  {
   "cell_type": "markdown",
   "id": "24168573",
   "metadata": {},
   "source": []
  },
  {
   "cell_type": "code",
   "execution_count": null,
   "id": "3a54b135",
   "metadata": {},
   "outputs": [],
   "source": []
  },
  {
   "cell_type": "markdown",
   "id": "93dc7ae0",
   "metadata": {},
   "source": [
    "# Section 2: Parlay odds calculator"
   ]
  },
  {
   "cell_type": "code",
   "execution_count": 5,
   "id": "1956592f",
   "metadata": {},
   "outputs": [
    {
     "name": "stdout",
     "output_type": "stream",
     "text": [
      "\n",
      "Total Decimal Odds: 2.00\n",
      "Total American Odds: -100.0\n"
     ]
    }
   ],
   "source": [
    "# Function to convert American odds to Decimal odds\n",
    "def american_to_decimal(american_odds):\n",
    "    if american_odds > 0:\n",
    "        return (american_odds / 100) + 1  # Positive odds\n",
    "    else:\n",
    "        return (100 / abs(american_odds)) + 1  # Negative odds\n",
    "\n",
    "# Function to calculate parlay odds\n",
    "def calculate_parlay(odds_list):\n",
    "    decimal_odds = 1  # Initialize decimal odds\n",
    "\n",
    "    # Convert each leg's American odds to Decimal odds and multiply them\n",
    "    for odds in odds_list:\n",
    "        decimal_odds *= american_to_decimal(odds)\n",
    "\n",
    "    # Convert back to American odds\n",
    "    if decimal_odds > 2.00:\n",
    "        parlay_american_odds = (decimal_odds - 1) * 100\n",
    "    else:\n",
    "        parlay_american_odds = -(100 / (decimal_odds - 1))\n",
    "\n",
    "    return decimal_odds, parlay_american_odds\n",
    "\n",
    "# Get the number of legs in the parlay\n",
    "num_legs = int(input(\"Enter the number of legs in the parlay: \"))\n",
    "\n",
    "# Collect the odds for each leg from the user\n",
    "odds_list = []\n",
    "for i in range(num_legs):\n",
    "    odds = int(input(f\"Enter the odds for leg {i+1} (e.g., -100 or 150): \"))\n",
    "    odds_list.append(odds)\n",
    "\n",
    "# Calculate parlay odds\n",
    "decimal_odds, parlay_american_odds = calculate_parlay(odds_list)\n",
    "\n",
    "# Output the results\n",
    "print(f\"\\nTotal Decimal Odds: {decimal_odds:.2f}\")\n",
    "print(f\"Total American Odds: {parlay_american_odds}\")\n"
   ]
  },
  {
   "cell_type": "markdown",
   "id": "e79b38ff",
   "metadata": {},
   "source": []
  },
  {
   "cell_type": "code",
   "execution_count": null,
   "id": "fc7edca7",
   "metadata": {},
   "outputs": [],
   "source": []
  },
  {
   "cell_type": "markdown",
   "id": "9dc216da",
   "metadata": {},
   "source": [
    "## 2.2 Profit boost integration"
   ]
  },
  {
   "cell_type": "code",
   "execution_count": 1,
   "id": "da9fbd3e",
   "metadata": {},
   "outputs": [
    {
     "name": "stdout",
     "output_type": "stream",
     "text": [
      "\n",
      "Total Decimal Odds before Boost: 12.00\n",
      "Total American Odds before Boost: 1100\n",
      "Adjusted Decimal Odds with Profit Boost: 14.20\n",
      "Adjusted American Odds with Profit Boost: 1320\n"
     ]
    }
   ],
   "source": [
    "# Function to convert American odds to Decimal odds\n",
    "def american_to_decimal(american_odds):\n",
    "    if american_odds > 0:\n",
    "        return (american_odds / 100) + 1  # Positive odds\n",
    "    else:\n",
    "        return (100 / abs(american_odds)) + 1  # Negative odds\n",
    "\n",
    "# Function to apply profit boost to decimal odds\n",
    "# Function to apply profit boost to decimal odds\n",
    "def apply_profit_boost(parlay_decimal_odds, profit_boost_input):\n",
    "    if profit_boost_input != \"0\":\n",
    "        profit_boost = float(profit_boost_input) / 100  # Convert to percentage (e.g., 50 -> 0.50)\n",
    "        profit_portion = parlay_decimal_odds - 1  # Extract the profit portion\n",
    "        boosted_profit = profit_portion * (1 + profit_boost)  # Apply the boost to the profit\n",
    "        return 1 + boosted_profit  # Add back the original stake\n",
    "    return parlay_decimal_odds\n",
    "\n",
    "\n",
    "# Function to convert Decimal odds to American odds\n",
    "def decimal_to_american(decimal_odds):\n",
    "    if decimal_odds >= 2:\n",
    "        return round((decimal_odds - 1) * 100)  # Positive odds\n",
    "    else:\n",
    "        return round(-100 / (decimal_odds - 1))  # Negative odds\n",
    "\n",
    "\n",
    "# Get the number of legs in the parlay\n",
    "num_legs = int(input(\"Enter the number of legs in the parlay: \"))\n",
    "\n",
    "# Collect the odds for each leg from the user\n",
    "odds_list = []\n",
    "for i in range(num_legs):\n",
    "    odds = int(input(f\"Enter the odds for leg {i+1} (e.g., -100 or 150): \"))\n",
    "    odds_list.append(odds)\n",
    "\n",
    "# Calculate total decimal odds for the parlay\n",
    "decimal_odds = 1  # Initialize decimal odds\n",
    "for odds in odds_list:\n",
    "    decimal_odds *= american_to_decimal(odds)\n",
    "\n",
    "# Get the profit boost input from the user\n",
    "profit_boost_input = input(\"Is there a profit boost? Enter the boost percentage (e.g., 10 for 10%) or 0 if none: \")\n",
    "\n",
    "# Apply the profit boost to decimal odds\n",
    "adjusted_decimal_odds = apply_profit_boost(decimal_odds, profit_boost_input)\n",
    "\n",
    "# Convert the adjusted decimal odds back to American odds\n",
    "adjusted_parlay_american_odds = decimal_to_american(adjusted_decimal_odds)\n",
    "\n",
    "# Output the results\n",
    "print(f\"\\nTotal Decimal Odds before Boost: {decimal_odds:.2f}\")\n",
    "print(f\"Total American Odds before Boost: {decimal_to_american(decimal_odds):.0f}\")\n",
    "print(f\"Adjusted Decimal Odds with Profit Boost: {adjusted_decimal_odds:.2f}\")\n",
    "print(f\"Adjusted American Odds with Profit Boost: {adjusted_parlay_american_odds:.0f}\")"
   ]
  },
  {
   "cell_type": "markdown",
   "id": "b0b067f8",
   "metadata": {},
   "source": [
    "## 2.3: Testing profit boost functions"
   ]
  },
  {
   "cell_type": "code",
   "execution_count": 10,
   "id": "0bbe0b6a",
   "metadata": {},
   "outputs": [
    {
     "name": "stdout",
     "output_type": "stream",
     "text": [
      "5.9\n",
      "1.5\n"
     ]
    }
   ],
   "source": [
    "print(american_to_decimal(490))\n",
    "print(american_to_decimal(-200))\n",
    "#should be good"
   ]
  },
  {
   "cell_type": "code",
   "execution_count": 11,
   "id": "42a9b506",
   "metadata": {},
   "outputs": [
    {
     "name": "stdout",
     "output_type": "stream",
     "text": [
      "1000\n",
      "-200\n"
     ]
    }
   ],
   "source": [
    "print(decimal_to_american(11))\n",
    "print(decimal_to_american(1.5))\n",
    "#should be good"
   ]
  },
  {
   "cell_type": "code",
   "execution_count": 12,
   "id": "cb7e8a4a",
   "metadata": {},
   "outputs": [
    {
     "name": "stdout",
     "output_type": "stream",
     "text": [
      "734.5\n",
      "8.350000000000001\n"
     ]
    }
   ],
   "source": [
    "print(apply_profit_boost(490, 50))\n",
    "print(apply_profit_boost(5.9,50))\n",
    "#I think these are fine too "
   ]
  },
  {
   "cell_type": "markdown",
   "id": "61a253c3",
   "metadata": {},
   "source": [
    "# Section 3: VIG (House earnings)"
   ]
  },
  {
   "cell_type": "markdown",
   "id": "daeb6385",
   "metadata": {},
   "source": [
    "## 3.1: Calculating VIG"
   ]
  },
  {
   "cell_type": "code",
   "execution_count": 6,
   "id": "f00a4bda",
   "metadata": {},
   "outputs": [
    {
     "name": "stdout",
     "output_type": "stream",
     "text": [
      "The vig for the market is: 4.76%\n"
     ]
    }
   ],
   "source": [
    "# Function to calculate implied probability from American odds\n",
    "def implied_probability(american_odds):\n",
    "    if american_odds > 0:\n",
    "        return 100 / (american_odds + 100)\n",
    "    else:\n",
    "        return abs(american_odds) / (abs(american_odds) + 100)\n",
    "\n",
    "# Function to calculate vig from two-sided market odds\n",
    "def calculate_vig(odds_list):\n",
    "    # Sum the implied probabilities for all outcomes\n",
    "    total_implied_probability = sum(implied_probability(odds) for odds in odds_list)\n",
    "    # Vig is the excess over 100%\n",
    "    vig = total_implied_probability - 1  # Convert to percentage\n",
    "    return vig * 100  # Return as percentage\n",
    "\n",
    "# Example: Over/Under odds\n",
    "over_under_odds = [-110, -110]\n",
    "\n",
    "# Calculate vig\n",
    "vig_percentage = calculate_vig(over_under_odds)\n",
    "print(f\"The vig for the market is: {vig_percentage:.2f}%\")\n",
    "\n"
   ]
  },
  {
   "cell_type": "markdown",
   "id": "2d6709f1",
   "metadata": {},
   "source": [
    "## 3.2: Applying VIG"
   ]
  },
  {
   "cell_type": "code",
   "execution_count": null,
   "id": "37c5af56",
   "metadata": {},
   "outputs": [],
   "source": []
  },
  {
   "cell_type": "code",
   "execution_count": null,
   "id": "41b5a76e",
   "metadata": {},
   "outputs": [],
   "source": []
  },
  {
   "cell_type": "code",
   "execution_count": null,
   "id": "6d20878f",
   "metadata": {},
   "outputs": [],
   "source": []
  },
  {
   "cell_type": "markdown",
   "id": "a6ea2e7e",
   "metadata": {},
   "source": [
    "# Section 4: ROI Calculation"
   ]
  },
  {
   "cell_type": "markdown",
   "id": "8fa7e5ed",
   "metadata": {},
   "source": [
    "## 4.1 Without profit boost"
   ]
  },
  {
   "cell_type": "code",
   "execution_count": 7,
   "id": "e1b0c3d3",
   "metadata": {},
   "outputs": [
    {
     "name": "stdout",
     "output_type": "stream",
     "text": [
      "\n",
      "Total Decimal Odds before Boost: 12.00\n",
      "Total American Odds before Boost: 1100\n",
      "ROI Before Boost: -4.55%\n"
     ]
    }
   ],
   "source": [
    "# Function to calculate ROI before boost using precomputed total decimal odds\n",
    "def calculate_roi_before_boost_from_decimal(decimal_odds, bet_amount, vig_percentage):\n",
    "    # Print total decimal odds and corresponding American odds before boost\n",
    "    print(f\"\\nTotal Decimal Odds before Boost: {decimal_odds:.2f}\")\n",
    "    print(f\"Total American Odds before Boost: {decimal_to_american(decimal_odds):.0f}\")\n",
    "    \n",
    "    # Calculate the implied probability for the decimal odds\n",
    "    implied_probability = 1 / decimal_odds  # For a single set of combined odds\n",
    "\n",
    "    # Adjust implied probability for vig\n",
    "    vig_adjusted_probability = implied_probability / (1 + vig_percentage / 100)\n",
    "\n",
    "    # Calculate expected return (expected value)\n",
    "    expected_return = vig_adjusted_probability * decimal_odds * bet_amount\n",
    "\n",
    "    # Calculate ROI before boost\n",
    "    roi_before_boost = (expected_return - bet_amount) / bet_amount * 100\n",
    "    print(f\"ROI Before Boost: {roi_before_boost:.2f}%\")\n",
    "    \n",
    "    return roi_before_boost\n",
    "\n",
    "\n",
    "\n",
    "# Calculate ROI before boost\n",
    "roi_before_boost = calculate_roi_before_boost_from_decimal(decimal_odds, bet_amount, vig_percentage)\n"
   ]
  },
  {
   "cell_type": "markdown",
   "id": "5e5d0f26",
   "metadata": {},
   "source": [
    "## 4.2 With profit boost (I think this is wrong but getting close)"
   ]
  },
  {
   "cell_type": "code",
   "execution_count": 48,
   "id": "dcb4ffbe",
   "metadata": {},
   "outputs": [
    {
     "name": "stdout",
     "output_type": "stream",
     "text": [
      "\n",
      "Adjusted Decimal Odds with Profit Boost: 2.36\n",
      "Adjusted American Odds with Profit Boost: 136\n",
      "ROI After Boost: 18.18%\n"
     ]
    }
   ],
   "source": [
    "# Function to calculate ROI after profit boost using adjusted decimal odds\n",
    "def calculate_roi_after_boost(adjusted_decimal_odds, original_decimal_odds, bet_amount, vig_percentage):\n",
    "    # Print adjusted odds after applying the profit boost\n",
    "    print(f\"\\nAdjusted Decimal Odds with Profit Boost: {adjusted_decimal_odds:.2f}\")\n",
    "    print(f\"Adjusted American Odds with Profit Boost: {decimal_to_american(adjusted_decimal_odds):.0f}\")\n",
    "\n",
    "    # Use original decimal odds to compute implied probability\n",
    "    implied_probability = 1 / original_decimal_odds\n",
    "\n",
    "    # Adjust implied probability for vig\n",
    "    vig_adjusted_probability = implied_probability / (1 + vig_percentage / 100)\n",
    "\n",
    "    # Calculate expected return using the adjusted decimal odds\n",
    "    expected_return = vig_adjusted_probability * adjusted_decimal_odds * bet_amount\n",
    "\n",
    "    # Calculate ROI after boost\n",
    "    roi_after_boost = (expected_return - bet_amount) / bet_amount * 100\n",
    "    print(f\"ROI After Boost: {roi_after_boost:.2f}%\")\n",
    "\n",
    "    return roi_after_boost\n",
    "\n",
    "\n",
    "# Example Input from the earlier parlay calculations\n",
    "original_decimal_odds = decimal_odds  # Total odds before profit boost\n",
    "adjusted_decimal_odds = apply_profit_boost(decimal_odds, profit_boost_input)  # Adjusted decimal odds after profit boost\n",
    "bet_amount = 100  # Bet amount\n",
    "vig_percentage = 4.76  # Vig or market edge percentage\n",
    "\n",
    "# Calculate ROI after profit boost\n",
    "roi_after_boost = calculate_roi_after_boost(adjusted_decimal_odds, original_decimal_odds, bet_amount, vig_percentage)\n"
   ]
  },
  {
   "cell_type": "markdown",
   "id": "ba3e17b9",
   "metadata": {},
   "source": [
    "## 4.3 Profit boost to make bet profitable?"
   ]
  },
  {
   "cell_type": "markdown",
   "id": "d0ac26dc",
   "metadata": {},
   "source": [
    "# Section 5: GPT Integration to explain results"
   ]
  },
  {
   "cell_type": "code",
   "execution_count": null,
   "id": "1e075720",
   "metadata": {},
   "outputs": [],
   "source": []
  },
  {
   "cell_type": "markdown",
   "id": "a342688f",
   "metadata": {},
   "source": [
    "# Front end"
   ]
  },
  {
   "cell_type": "code",
   "execution_count": 7,
   "id": "a3dccc37",
   "metadata": {},
   "outputs": [
    {
     "name": "stdout",
     "output_type": "stream",
     "text": [
      "Collecting flask\n",
      "  Downloading flask-3.1.0-py3-none-any.whl.metadata (2.7 kB)\n",
      "Collecting Werkzeug>=3.1 (from flask)\n",
      "  Downloading werkzeug-3.1.3-py3-none-any.whl.metadata (3.7 kB)\n",
      "Requirement already satisfied: Jinja2>=3.1.2 in /Users/sashaszura/anaconda3/envs/test_env/lib/python3.11/site-packages (from flask) (3.1.2)\n",
      "Collecting itsdangerous>=2.2 (from flask)\n",
      "  Downloading itsdangerous-2.2.0-py3-none-any.whl.metadata (1.9 kB)\n",
      "Requirement already satisfied: click>=8.1.3 in /Users/sashaszura/anaconda3/envs/test_env/lib/python3.11/site-packages (from flask) (8.1.7)\n",
      "Collecting blinker>=1.9 (from flask)\n",
      "  Downloading blinker-1.9.0-py3-none-any.whl.metadata (1.6 kB)\n",
      "Requirement already satisfied: MarkupSafe>=2.0 in /Users/sashaszura/anaconda3/envs/test_env/lib/python3.11/site-packages (from Jinja2>=3.1.2->flask) (2.1.1)\n",
      "Downloading flask-3.1.0-py3-none-any.whl (102 kB)\n",
      "\u001b[2K   \u001b[90m━━━━━━━━━━━━━━━━━━━━━━━━━━━━━━━━━━━━━━━\u001b[0m \u001b[32m103.0/103.0 kB\u001b[0m \u001b[31m811.5 kB/s\u001b[0m eta \u001b[36m0:00:00\u001b[0ma \u001b[36m0:00:01\u001b[0m\n",
      "\u001b[?25hDownloading blinker-1.9.0-py3-none-any.whl (8.5 kB)\n",
      "Downloading itsdangerous-2.2.0-py3-none-any.whl (16 kB)\n",
      "Downloading werkzeug-3.1.3-py3-none-any.whl (224 kB)\n",
      "\u001b[2K   \u001b[90m━━━━━━━━━━━━━━━━━━━━━━━━━━━━━━━━━━━━━━━━\u001b[0m \u001b[32m224.5/224.5 kB\u001b[0m \u001b[31m1.2 MB/s\u001b[0m eta \u001b[36m0:00:00\u001b[0ma \u001b[36m0:00:01\u001b[0mm\n",
      "\u001b[?25hInstalling collected packages: Werkzeug, itsdangerous, blinker, flask\n",
      "  Attempting uninstall: Werkzeug\n",
      "    Found existing installation: Werkzeug 2.2.3\n",
      "    Uninstalling Werkzeug-2.2.3:\n",
      "      Successfully uninstalled Werkzeug-2.2.3\n",
      "  Attempting uninstall: blinker\n",
      "    Found existing installation: blinker 1.6.2\n",
      "    Uninstalling blinker-1.6.2:\n",
      "      Successfully uninstalled blinker-1.6.2\n",
      "Successfully installed Werkzeug-3.1.3 blinker-1.9.0 flask-3.1.0 itsdangerous-2.2.0\n",
      "Note: you may need to restart the kernel to use updated packages.\n"
     ]
    }
   ],
   "source": []
  },
  {
   "cell_type": "code",
   "execution_count": null,
   "id": "d5acfa80",
   "metadata": {
    "scrolled": true
   },
   "outputs": [],
   "source": []
  },
  {
   "cell_type": "code",
   "execution_count": null,
   "id": "4b712f60",
   "metadata": {},
   "outputs": [],
   "source": []
  },
  {
   "cell_type": "code",
   "execution_count": null,
   "id": "50d7ef3f",
   "metadata": {},
   "outputs": [],
   "source": []
  },
  {
   "cell_type": "code",
   "execution_count": null,
   "id": "d66b3eae",
   "metadata": {},
   "outputs": [],
   "source": []
  }
 ],
 "metadata": {
  "kernelspec": {
   "display_name": "base",
   "language": "python",
   "name": "python3"
  },
  "language_info": {
   "codemirror_mode": {
    "name": "ipython",
    "version": 3
   },
   "file_extension": ".py",
   "mimetype": "text/x-python",
   "name": "python",
   "nbconvert_exporter": "python",
   "pygments_lexer": "ipython3",
   "version": "3.11.5"
  }
 },
 "nbformat": 4,
 "nbformat_minor": 5
}
